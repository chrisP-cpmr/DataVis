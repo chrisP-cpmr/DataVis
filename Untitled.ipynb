{
 "cells": [
  {
   "cell_type": "code",
   "execution_count": 1,
   "metadata": {},
   "outputs": [],
   "source": [
    "import pandas as pd"
   ]
  },
  {
   "cell_type": "code",
   "execution_count": 5,
   "metadata": {},
   "outputs": [],
   "source": [
    "df = pd.read_excel(\"Data_clean.xlsx\")"
   ]
  },
  {
   "cell_type": "code",
   "execution_count": 6,
   "metadata": {},
   "outputs": [
    {
     "data": {
      "text/plain": [
       "<bound method NDFrame.head of       Unnamed: 0  m49_code                             country  cpc_code  \\\n",
       "0              4       116                            Cambodia    1213.0   \n",
       "1              5       116                            Cambodia    1232.0   \n",
       "2              6       116                            Cambodia    1234.0   \n",
       "3              7       116                            Cambodia    1241.9   \n",
       "4              8       120                            Cameroon    1313.0   \n",
       "...          ...       ...                                 ...       ...   \n",
       "1788        1893       862  Venezuela (Bolivarian Republic of)    1213.0   \n",
       "1789        1894       862  Venezuela (Bolivarian Republic of)    1213.0   \n",
       "1790        1895       862  Venezuela (Bolivarian Republic of)    1214.0   \n",
       "1791        1896       862  Venezuela (Bolivarian Republic of)    1290.9   \n",
       "1792        1897       862  Venezuela (Bolivarian Republic of)    1290.9   \n",
       "\n",
       "                           commodity  year  loss_percentage  \\\n",
       "0          Cauliflowers and broccoli  2008             16.4   \n",
       "1             Cucumbers and gherkins  2008             19.7   \n",
       "2                           Tomatoes  2008             24.6   \n",
       "3                 Other beans, green  2008             21.8   \n",
       "4      Plantains and cooking bananas  2013             35.0   \n",
       "...                              ...   ...              ...   \n",
       "1788       Cauliflowers and broccoli  2013             49.0   \n",
       "1789       Cauliflowers and broccoli  2013             33.0   \n",
       "1790             Lettuce and chicory  2013             35.0   \n",
       "1791  Other vegetables, fresh n.e.c.  2013             20.0   \n",
       "1792  Other vegetables, fresh n.e.c.  2013             48.0   \n",
       "\n",
       "       food_supply_stage        method_data_collection  \n",
       "0     Whole supply chain                        Survey  \n",
       "1     Whole supply chain                        Survey  \n",
       "2     Whole supply chain                        Survey  \n",
       "3     Whole supply chain                        Survey  \n",
       "4     Whole supply chain  No Data Collection Specified  \n",
       "...                  ...                           ...  \n",
       "1788        Post-harvest             Literature Review  \n",
       "1789        Post-harvest             Literature Review  \n",
       "1790        Post-harvest             Literature Review  \n",
       "1791                Farm             Literature Review  \n",
       "1792        Post-harvest             Literature Review  \n",
       "\n",
       "[1793 rows x 9 columns]>"
      ]
     },
     "execution_count": 6,
     "metadata": {},
     "output_type": "execute_result"
    }
   ],
   "source": [
    "df.head"
   ]
  },
  {
   "cell_type": "code",
   "execution_count": 7,
   "metadata": {},
   "outputs": [],
   "source": [
    "df.to_csv(\"Data_clean.csv\", index=False)"
   ]
  },
  {
   "cell_type": "code",
   "execution_count": null,
   "metadata": {},
   "outputs": [],
   "source": []
  }
 ],
 "metadata": {
  "kernelspec": {
   "display_name": "Python 3",
   "language": "python",
   "name": "python3"
  },
  "language_info": {
   "codemirror_mode": {
    "name": "ipython",
    "version": 3
   },
   "file_extension": ".py",
   "mimetype": "text/x-python",
   "name": "python",
   "nbconvert_exporter": "python",
   "pygments_lexer": "ipython3",
   "version": "3.8.5"
  }
 },
 "nbformat": 4,
 "nbformat_minor": 4
}
