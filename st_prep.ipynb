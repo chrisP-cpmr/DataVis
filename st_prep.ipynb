{
 "cells": [
  {
   "cell_type": "code",
   "execution_count": 6,
   "metadata": {},
   "outputs": [],
   "source": [
    "import pandas as pd\n",
    "import streamlit as st\n",
    "import altair as alt"
   ]
  },
  {
   "cell_type": "code",
   "execution_count": 21,
   "metadata": {},
   "outputs": [],
   "source": [
    "df = pd.read_csv(\"Data_clean_v2.csv\")"
   ]
  },
  {
   "cell_type": "code",
   "execution_count": 22,
   "metadata": {},
   "outputs": [
    {
     "name": "stdout",
     "output_type": "stream",
     "text": [
      "<class 'pandas.core.frame.DataFrame'>\n",
      "RangeIndex: 1898 entries, 0 to 1897\n",
      "Data columns (total 5 columns):\n",
      " #   Column             Non-Null Count  Dtype  \n",
      "---  ------             --------------  -----  \n",
      " 0   country            1898 non-null   object \n",
      " 1   commodity          1898 non-null   object \n",
      " 2   year               1898 non-null   int64  \n",
      " 3   loss_percentage    1898 non-null   float64\n",
      " 4   food_supply_stage  1885 non-null   object \n",
      "dtypes: float64(1), int64(1), object(3)\n",
      "memory usage: 74.3+ KB\n"
     ]
    }
   ],
   "source": [
    "df.info()"
   ]
  },
  {
   "cell_type": "code",
   "execution_count": 23,
   "metadata": {},
   "outputs": [],
   "source": [
    "df = df.rename(columns={\"country\":\"Country\", \"commodity\":\"Commodity\", \"year\":\"Year\", \"loss_percentage\":\"Loss Percentage\", \"food_supply_stage\":\"Supply Chain Stage\"})"
   ]
  },
  {
   "cell_type": "code",
   "execution_count": 25,
   "metadata": {},
   "outputs": [
    {
     "name": "stdout",
     "output_type": "stream",
     "text": [
      "<class 'pandas.core.frame.DataFrame'>\n",
      "RangeIndex: 1898 entries, 0 to 1897\n",
      "Data columns (total 5 columns):\n",
      " #   Column              Non-Null Count  Dtype  \n",
      "---  ------              --------------  -----  \n",
      " 0   Country             1898 non-null   object \n",
      " 1   Commodity           1898 non-null   object \n",
      " 2   Year                1898 non-null   int64  \n",
      " 3   Loss Percentage     1898 non-null   float64\n",
      " 4   Supply Chain Stage  1885 non-null   object \n",
      "dtypes: float64(1), int64(1), object(3)\n",
      "memory usage: 74.3+ KB\n"
     ]
    }
   ],
   "source": [
    "df.info()"
   ]
  },
  {
   "cell_type": "code",
   "execution_count": 26,
   "metadata": {},
   "outputs": [
    {
     "data": {
      "text/html": [
       "<div>\n",
       "<style scoped>\n",
       "    .dataframe tbody tr th:only-of-type {\n",
       "        vertical-align: middle;\n",
       "    }\n",
       "\n",
       "    .dataframe tbody tr th {\n",
       "        vertical-align: top;\n",
       "    }\n",
       "\n",
       "    .dataframe thead th {\n",
       "        text-align: right;\n",
       "    }\n",
       "</style>\n",
       "<table border=\"1\" class=\"dataframe\">\n",
       "  <thead>\n",
       "    <tr style=\"text-align: right;\">\n",
       "      <th></th>\n",
       "      <th>Country</th>\n",
       "      <th>Commodity</th>\n",
       "      <th>Year</th>\n",
       "      <th>Loss Percentage</th>\n",
       "      <th>Supply Chain Stage</th>\n",
       "    </tr>\n",
       "  </thead>\n",
       "  <tbody>\n",
       "    <tr>\n",
       "      <th>0</th>\n",
       "      <td>Cambodia</td>\n",
       "      <td>Tomatoes</td>\n",
       "      <td>2013</td>\n",
       "      <td>3.5</td>\n",
       "      <td>Trader</td>\n",
       "    </tr>\n",
       "    <tr>\n",
       "      <th>1</th>\n",
       "      <td>Cambodia</td>\n",
       "      <td>Tomatoes</td>\n",
       "      <td>2013</td>\n",
       "      <td>12.5</td>\n",
       "      <td>Farm</td>\n",
       "    </tr>\n",
       "    <tr>\n",
       "      <th>2</th>\n",
       "      <td>Cambodia</td>\n",
       "      <td>Tomatoes</td>\n",
       "      <td>2013</td>\n",
       "      <td>3.5</td>\n",
       "      <td>Retail</td>\n",
       "    </tr>\n",
       "    <tr>\n",
       "      <th>3</th>\n",
       "      <td>Cambodia</td>\n",
       "      <td>Tomatoes</td>\n",
       "      <td>2013</td>\n",
       "      <td>3.5</td>\n",
       "      <td>Wholesale</td>\n",
       "    </tr>\n",
       "    <tr>\n",
       "      <th>4</th>\n",
       "      <td>Cambodia</td>\n",
       "      <td>Cauliflowers and broccoli</td>\n",
       "      <td>2008</td>\n",
       "      <td>16.4</td>\n",
       "      <td>Whole supply chain</td>\n",
       "    </tr>\n",
       "  </tbody>\n",
       "</table>\n",
       "</div>"
      ],
      "text/plain": [
       "    Country                  Commodity  Year  Loss Percentage  \\\n",
       "0  Cambodia                   Tomatoes  2013              3.5   \n",
       "1  Cambodia                   Tomatoes  2013             12.5   \n",
       "2  Cambodia                   Tomatoes  2013              3.5   \n",
       "3  Cambodia                   Tomatoes  2013              3.5   \n",
       "4  Cambodia  Cauliflowers and broccoli  2008             16.4   \n",
       "\n",
       "   Supply Chain Stage  \n",
       "0              Trader  \n",
       "1                Farm  \n",
       "2              Retail  \n",
       "3           Wholesale  \n",
       "4  Whole supply chain  "
      ]
     },
     "execution_count": 26,
     "metadata": {},
     "output_type": "execute_result"
    }
   ],
   "source": [
    "df.head()"
   ]
  },
  {
   "cell_type": "code",
   "execution_count": 27,
   "metadata": {},
   "outputs": [
    {
     "data": {
      "text/plain": [
       "DeltaGenerator(_root_container=0, _provided_cursor=None, _parent=None, _block_type=None, _form_data=None)"
      ]
     },
     "execution_count": 27,
     "metadata": {},
     "output_type": "execute_result"
    }
   ],
   "source": [
    "c = alt.Chart(df).mark_circle().encode(\n",
    "     x='Supply Chain Stage', y='Year', size='Loss Percentage', color='Loss Percentage', tooltip=['Supply Chain Stage', 'Year', 'Loss Percentage'])\n",
    "\n",
    "st.altair_chart(c, use_container_width=False)"
   ]
  },
  {
   "cell_type": "code",
   "execution_count": 29,
   "metadata": {},
   "outputs": [],
   "source": [
    "# add df with only 3 columns\n",
    "df_simple = df[['Supply Chain Stage', 'Year', 'Loss Percentage']]"
   ]
  },
  {
   "cell_type": "code",
   "execution_count": 30,
   "metadata": {},
   "outputs": [
    {
     "name": "stdout",
     "output_type": "stream",
     "text": [
      "<class 'pandas.core.frame.DataFrame'>\n",
      "RangeIndex: 1898 entries, 0 to 1897\n",
      "Data columns (total 3 columns):\n",
      " #   Column              Non-Null Count  Dtype  \n",
      "---  ------              --------------  -----  \n",
      " 0   Supply Chain Stage  1885 non-null   object \n",
      " 1   Year                1898 non-null   int64  \n",
      " 2   Loss Percentage     1898 non-null   float64\n",
      "dtypes: float64(1), int64(1), object(1)\n",
      "memory usage: 44.6+ KB\n"
     ]
    }
   ],
   "source": [
    "df_simple.info()"
   ]
  },
  {
   "cell_type": "code",
   "execution_count": null,
   "metadata": {},
   "outputs": [],
   "source": [
    "hart_data = pd.DataFrame(\n",
    "     np.random.randn(20, 3),\n",
    "     columns=['a', 'b', 'c'])\n",
    "\n",
    "st.area_chart(chart_data)"
   ]
  }
 ],
 "metadata": {
  "kernelspec": {
   "display_name": "Python 3",
   "language": "python",
   "name": "python3"
  },
  "language_info": {
   "codemirror_mode": {
    "name": "ipython",
    "version": 3
   },
   "file_extension": ".py",
   "mimetype": "text/x-python",
   "name": "python",
   "nbconvert_exporter": "python",
   "pygments_lexer": "ipython3",
   "version": "3.8.5"
  }
 },
 "nbformat": 4,
 "nbformat_minor": 4
}
